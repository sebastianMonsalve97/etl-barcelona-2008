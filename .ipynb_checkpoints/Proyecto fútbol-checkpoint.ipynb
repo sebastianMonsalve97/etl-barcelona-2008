{
 "cells": [
  {
   "cell_type": "markdown",
   "id": "e622f3f9-2dc8-4a3e-8aa3-148492b8a460",
   "metadata": {},
   "source": [
    "# Análisis del Barcelona 2008 - 2009"
   ]
  },
  {
   "cell_type": "markdown",
   "id": "57930512-6627-412c-b0ef-6309bc59f39d",
   "metadata": {},
   "source": [
    "## Paso 2. Análisis exploratorio de datos (EDA)"
   ]
  },
  {
   "cell_type": "code",
   "execution_count": 3,
   "id": "34a8d3c7-7c92-45eb-b8ec-2fd285190f0e",
   "metadata": {},
   "outputs": [
    {
     "name": "stdout",
     "output_type": "stream",
     "text": [
      "Tablas disponibles:\n",
      "                name\n",
      "0    sqlite_sequence\n",
      "1  Player_Attributes\n",
      "2             Player\n",
      "3              Match\n",
      "4             League\n",
      "5            Country\n",
      "6               Team\n",
      "7    Team_Attributes\n",
      "Tabla: sqlite_sequence, Filas: 7\n",
      "Tabla: Player_Attributes, Filas: 183978\n",
      "Tabla: Player, Filas: 11060\n",
      "Tabla: Match, Filas: 25979\n",
      "Tabla: League, Filas: 11\n",
      "Tabla: Country, Filas: 11\n",
      "Tabla: Team, Filas: 299\n",
      "Tabla: Team_Attributes, Filas: 1458\n"
     ]
    }
   ],
   "source": [
    "import sqlite3\n",
    "import pandas as pd\n",
    "\n",
    "#Conectar a la base de datos\n",
    "conn = sqlite3.connect (\"database.sqlite\")\n",
    "\n",
    "#Mostrar las tablas que hay en la base de datos\n",
    "tablas = pd.read_sql_query(\"SELECT name FROM sqlite_master WHERE type='table';\", conn)\n",
    "print (\"Tablas disponibles:\")\n",
    "print(tablas)\n",
    "\n",
    "#Ver cuantos registros tiene cada uno\n",
    "for tabla in tablas ['name']:\n",
    "    count = pd.read_sql_query(f\"SELECT COUNT (*) as total FROM {tabla};\", conn)\n",
    "    print (f\"Tabla: {tabla}, Filas: {count['total'][0]}\")\n"
   ]
  },
  {
   "cell_type": "code",
   "execution_count": 4,
   "id": "0bd642b9-e1d8-4451-9975-9811562f9c96",
   "metadata": {
    "scrolled": true
   },
   "outputs": [
    {
     "name": "stdout",
     "output_type": "stream",
     "text": [
      "\n",
      "Columnas de la tabla: sqlite_sequence\n",
      "   cid  name type  notnull dflt_value  pk\n",
      "0    0  name             0       None   0\n",
      "1    1   seq             0       None   0\n",
      "\n",
      "Columnas de la tabla: Player_Attributes\n",
      "    cid                 name     type  notnull dflt_value  pk\n",
      "0     0                   id  INTEGER        0       None   1\n",
      "1     1   player_fifa_api_id  INTEGER        0       None   0\n",
      "2     2        player_api_id  INTEGER        0       None   0\n",
      "3     3                 date     TEXT        0       None   0\n",
      "4     4       overall_rating  INTEGER        0       None   0\n",
      "5     5            potential  INTEGER        0       None   0\n",
      "6     6       preferred_foot     TEXT        0       None   0\n",
      "7     7  attacking_work_rate     TEXT        0       None   0\n",
      "8     8  defensive_work_rate     TEXT        0       None   0\n",
      "9     9             crossing  INTEGER        0       None   0\n",
      "10   10            finishing  INTEGER        0       None   0\n",
      "11   11     heading_accuracy  INTEGER        0       None   0\n",
      "12   12        short_passing  INTEGER        0       None   0\n",
      "13   13              volleys  INTEGER        0       None   0\n",
      "14   14            dribbling  INTEGER        0       None   0\n",
      "15   15                curve  INTEGER        0       None   0\n",
      "16   16   free_kick_accuracy  INTEGER        0       None   0\n",
      "17   17         long_passing  INTEGER        0       None   0\n",
      "18   18         ball_control  INTEGER        0       None   0\n",
      "19   19         acceleration  INTEGER        0       None   0\n",
      "20   20         sprint_speed  INTEGER        0       None   0\n",
      "21   21              agility  INTEGER        0       None   0\n",
      "22   22            reactions  INTEGER        0       None   0\n",
      "23   23              balance  INTEGER        0       None   0\n",
      "24   24           shot_power  INTEGER        0       None   0\n",
      "25   25              jumping  INTEGER        0       None   0\n",
      "26   26              stamina  INTEGER        0       None   0\n",
      "27   27             strength  INTEGER        0       None   0\n",
      "28   28           long_shots  INTEGER        0       None   0\n",
      "29   29           aggression  INTEGER        0       None   0\n",
      "30   30        interceptions  INTEGER        0       None   0\n",
      "31   31          positioning  INTEGER        0       None   0\n",
      "32   32               vision  INTEGER        0       None   0\n",
      "33   33            penalties  INTEGER        0       None   0\n",
      "34   34              marking  INTEGER        0       None   0\n",
      "35   35      standing_tackle  INTEGER        0       None   0\n",
      "36   36       sliding_tackle  INTEGER        0       None   0\n",
      "37   37            gk_diving  INTEGER        0       None   0\n",
      "38   38          gk_handling  INTEGER        0       None   0\n",
      "39   39           gk_kicking  INTEGER        0       None   0\n",
      "40   40       gk_positioning  INTEGER        0       None   0\n",
      "41   41          gk_reflexes  INTEGER        0       None   0\n",
      "\n",
      "Columnas de la tabla: Player\n",
      "   cid                name     type  notnull dflt_value  pk\n",
      "0    0                  id  INTEGER        0       None   1\n",
      "1    1       player_api_id  INTEGER        0       None   0\n",
      "2    2         player_name     TEXT        0       None   0\n",
      "3    3  player_fifa_api_id  INTEGER        0       None   0\n",
      "4    4            birthday     TEXT        0       None   0\n",
      "5    5              height  INTEGER        0       None   0\n",
      "6    6              weight  INTEGER        0       None   0\n",
      "\n",
      "Columnas de la tabla: Match\n",
      "     cid        name     type  notnull dflt_value  pk\n",
      "0      0          id  INTEGER        0       None   1\n",
      "1      1  country_id  INTEGER        0       None   0\n",
      "2      2   league_id  INTEGER        0       None   0\n",
      "3      3      season     TEXT        0       None   0\n",
      "4      4       stage  INTEGER        0       None   0\n",
      "..   ...         ...      ...      ...        ...  ..\n",
      "110  110         GBD  NUMERIC        0       None   0\n",
      "111  111         GBA  NUMERIC        0       None   0\n",
      "112  112         BSH  NUMERIC        0       None   0\n",
      "113  113         BSD  NUMERIC        0       None   0\n",
      "114  114         BSA  NUMERIC        0       None   0\n",
      "\n",
      "[115 rows x 6 columns]\n",
      "\n",
      "Columnas de la tabla: League\n",
      "   cid        name     type  notnull dflt_value  pk\n",
      "0    0          id  INTEGER        0       None   1\n",
      "1    1  country_id  INTEGER        0       None   0\n",
      "2    2        name     TEXT        0       None   0\n",
      "\n",
      "Columnas de la tabla: Country\n",
      "   cid  name     type  notnull dflt_value  pk\n",
      "0    0    id  INTEGER        0       None   1\n",
      "1    1  name     TEXT        0       None   0\n",
      "\n",
      "Columnas de la tabla: Team\n",
      "   cid              name     type  notnull dflt_value  pk\n",
      "0    0                id  INTEGER        0       None   1\n",
      "1    1       team_api_id  INTEGER        0       None   0\n",
      "2    2  team_fifa_api_id  INTEGER        0       None   0\n",
      "3    3    team_long_name     TEXT        0       None   0\n",
      "4    4   team_short_name     TEXT        0       None   0\n",
      "\n",
      "Columnas de la tabla: Team_Attributes\n",
      "    cid                            name     type  notnull dflt_value  pk\n",
      "0     0                              id  INTEGER        0       None   1\n",
      "1     1                team_fifa_api_id  INTEGER        0       None   0\n",
      "2     2                     team_api_id  INTEGER        0       None   0\n",
      "3     3                            date     TEXT        0       None   0\n",
      "4     4                buildUpPlaySpeed  INTEGER        0       None   0\n",
      "5     5           buildUpPlaySpeedClass     TEXT        0       None   0\n",
      "6     6            buildUpPlayDribbling  INTEGER        0       None   0\n",
      "7     7       buildUpPlayDribblingClass     TEXT        0       None   0\n",
      "8     8              buildUpPlayPassing  INTEGER        0       None   0\n",
      "9     9         buildUpPlayPassingClass     TEXT        0       None   0\n",
      "10   10     buildUpPlayPositioningClass     TEXT        0       None   0\n",
      "11   11           chanceCreationPassing  INTEGER        0       None   0\n",
      "12   12      chanceCreationPassingClass     TEXT        0       None   0\n",
      "13   13          chanceCreationCrossing  INTEGER        0       None   0\n",
      "14   14     chanceCreationCrossingClass     TEXT        0       None   0\n",
      "15   15          chanceCreationShooting  INTEGER        0       None   0\n",
      "16   16     chanceCreationShootingClass     TEXT        0       None   0\n",
      "17   17  chanceCreationPositioningClass     TEXT        0       None   0\n",
      "18   18                 defencePressure  INTEGER        0       None   0\n",
      "19   19            defencePressureClass     TEXT        0       None   0\n",
      "20   20               defenceAggression  INTEGER        0       None   0\n",
      "21   21          defenceAggressionClass     TEXT        0       None   0\n",
      "22   22                defenceTeamWidth  INTEGER        0       None   0\n",
      "23   23           defenceTeamWidthClass     TEXT        0       None   0\n",
      "24   24        defenceDefenderLineClass     TEXT        0       None   0\n"
     ]
    }
   ],
   "source": [
    "#Ver columnas y tipos de datos del dataset\n",
    "for tabla in tablas ['name']:\n",
    "    print (f\"\\nColumnas de la tabla: {tabla}\")\n",
    "    info = pd.read_sql_query (f\"PRAGMA table_info({tabla});\",conn)\n",
    "    print (info)    "
   ]
  },
  {
   "cell_type": "code",
   "execution_count": 5,
   "id": "acb74ba2-eb7d-408d-be13-f0123cca3af1",
   "metadata": {},
   "outputs": [
    {
     "name": "stdout",
     "output_type": "stream",
     "text": [
      "Rango de fechas en la tabla: Match\n",
      "             min_fecha            max_fecha\n",
      "0  2008-07-18 00:00:00  2016-05-25 00:00:00\n",
      "Rango de fechas en la tabla: Player_Attributes\n",
      "             min_fecha            max_fecha\n",
      "0  2007-02-22 00:00:00  2016-07-07 00:00:00\n",
      "Rango de fechas en la tabla: Team_Attributes\n",
      "             min_fecha            max_fecha\n",
      "0  2010-02-22 00:00:00  2015-09-10 00:00:00\n"
     ]
    }
   ],
   "source": [
    "# Ver fecha máxima y mínima para análisis\n",
    "for tabla in ['Match', 'Player_Attributes', 'Team_Attributes']:\n",
    "    print(f\"Rango de fechas en la tabla: {tabla}\")\n",
    "    fechas = pd.read_sql_query(f\"SELECT MIN(date) as min_fecha, MAX(date) as max_fecha FROM {tabla};\", conn)\n",
    "    print(fechas)"
   ]
  },
  {
   "cell_type": "code",
   "execution_count": 6,
   "id": "9b5d8778-8eb4-4c4d-977a-186321607272",
   "metadata": {},
   "outputs": [
    {
     "name": "stdout",
     "output_type": "stream",
     "text": [
      "   id  team_fifa_api_id  team_api_id                 date\n",
      "0   1               434         9930  2010-02-22 00:00:00\n",
      "1   2               434         9930  2014-09-19 00:00:00\n",
      "2   3               434         9930  2015-09-10 00:00:00\n",
      "3   4                77         8485  2010-02-22 00:00:00\n",
      "4   5                77         8485  2011-02-22 00:00:00\n"
     ]
    }
   ],
   "source": [
    "# Consulta SQL a la tabla Player_atributes\n",
    "\n",
    "query = \"SELECT id, team_fifa_api_id, team_api_id, date FROM Team_Attributes;\"\n",
    "df = pd.read_sql_query(query, conn)\n",
    "\n",
    "print (df.head(5))\n"
   ]
  },
  {
   "cell_type": "markdown",
   "id": "79763178-e15f-4a57-8c31-39bd0731e892",
   "metadata": {},
   "source": [
    "### Verificación de nulos en las tablas"
   ]
  },
  {
   "cell_type": "code",
   "execution_count": 8,
   "id": "0a84fcbd-dd71-4640-a71f-e64c3660b89c",
   "metadata": {},
   "outputs": [
    {
     "name": "stdout",
     "output_type": "stream",
     "text": [
      "id                        0\n",
      "player_fifa_api_id        0\n",
      "player_api_id             0\n",
      "date                      0\n",
      "overall_rating          836\n",
      "potential               836\n",
      "preferred_foot          836\n",
      "attacking_work_rate    3230\n",
      "defensive_work_rate     836\n",
      "crossing                836\n",
      "finishing               836\n",
      "heading_accuracy        836\n",
      "short_passing           836\n",
      "volleys                2713\n",
      "dribbling               836\n",
      "curve                  2713\n",
      "free_kick_accuracy      836\n",
      "long_passing            836\n",
      "ball_control            836\n",
      "acceleration            836\n",
      "sprint_speed            836\n",
      "agility                2713\n",
      "reactions               836\n",
      "balance                2713\n",
      "shot_power              836\n",
      "jumping                2713\n",
      "stamina                 836\n",
      "strength                836\n",
      "long_shots              836\n",
      "aggression              836\n",
      "interceptions           836\n",
      "positioning             836\n",
      "vision                 2713\n",
      "penalties               836\n",
      "marking                 836\n",
      "standing_tackle         836\n",
      "sliding_tackle         2713\n",
      "gk_diving               836\n",
      "gk_handling             836\n",
      "gk_kicking              836\n",
      "gk_positioning          836\n",
      "gk_reflexes             836\n",
      "dtype: int64\n"
     ]
    }
   ],
   "source": [
    "#Player_Attributes\t\n",
    "\n",
    "df = pd.read_sql_query (\"SELECT * FROM Player_Attributes\", conn)\n",
    "print (df.isnull().sum())"
   ]
  },
  {
   "cell_type": "code",
   "execution_count": 9,
   "id": "4954613d-d766-4227-8549-c95239e97224",
   "metadata": {},
   "outputs": [
    {
     "name": "stdout",
     "output_type": "stream",
     "text": [
      "id                    0\n",
      "player_api_id         0\n",
      "player_name           0\n",
      "player_fifa_api_id    0\n",
      "birthday              0\n",
      "height                0\n",
      "weight                0\n",
      "dtype: int64\n"
     ]
    }
   ],
   "source": [
    "#Player\n",
    "\n",
    "df = pd.read_sql_query (\"SELECT * FROM Player\", conn)\n",
    "print (df.isnull().sum())"
   ]
  },
  {
   "cell_type": "code",
   "execution_count": 10,
   "id": "b4f198a0-fef1-4e62-a32c-e4586f864132",
   "metadata": {},
   "outputs": [
    {
     "name": "stdout",
     "output_type": "stream",
     "text": [
      "id            0\n",
      "country_id    0\n",
      "name          0\n",
      "dtype: int64\n"
     ]
    }
   ],
   "source": [
    "#League\n",
    "\n",
    "df = pd.read_sql_query (\"SELECT * FROM League\", conn)\n",
    "print (df.isnull().sum())"
   ]
  },
  {
   "cell_type": "code",
   "execution_count": 11,
   "id": "75fec6f2-cbaa-4580-89c7-fb4b56ebeac1",
   "metadata": {},
   "outputs": [
    {
     "name": "stdout",
     "output_type": "stream",
     "text": [
      "id                   0\n",
      "team_api_id          0\n",
      "team_fifa_api_id    11\n",
      "team_long_name       0\n",
      "team_short_name      0\n",
      "dtype: int64\n"
     ]
    }
   ],
   "source": [
    "# Team\n",
    "\n",
    "df = pd.read_sql_query (\"SELECT * FROM Team\", conn)\n",
    "print (df.isnull().sum())"
   ]
  },
  {
   "cell_type": "code",
   "execution_count": 12,
   "id": "6da4cd77-dc17-4f1d-9802-400b48435941",
   "metadata": {},
   "outputs": [
    {
     "name": "stdout",
     "output_type": "stream",
     "text": [
      "id                0\n",
      "country_id        0\n",
      "league_id         0\n",
      "season            0\n",
      "stage             0\n",
      "              ...  \n",
      "GBD           11817\n",
      "GBA           11817\n",
      "BSH           11818\n",
      "BSD           11818\n",
      "BSA           11818\n",
      "Length: 115, dtype: int64\n"
     ]
    }
   ],
   "source": [
    "#Match \n",
    "\n",
    "df_match = pd.read_sql_query (\"SELECT * FROM Match\", conn)\n",
    "print (df_match.isnull().sum())"
   ]
  },
  {
   "cell_type": "code",
   "execution_count": 13,
   "id": "45d97208-7f47-4b0c-b2fd-f55c05a2030f",
   "metadata": {},
   "outputs": [
    {
     "name": "stdout",
     "output_type": "stream",
     "text": [
      "      id  team_api_id  team_fifa_api_id team_long_name team_short_name\n",
      "0  43042         8634               241   FC Barcelona             BAR\n"
     ]
    }
   ],
   "source": [
    "query = (\"SELECT * FROM Team WHERE team_long_name LIKE '%Barcelona%';\")\n",
    "df = pd.read_sql_query (query, conn)\n",
    "\n",
    "print (df.head(5))"
   ]
  },
  {
   "cell_type": "code",
   "execution_count": 55,
   "id": "d1a1813a-ca77-4f7a-9203-0b68ba3aa3e8",
   "metadata": {},
   "outputs": [
    {
     "name": "stdout",
     "output_type": "stream",
     "text": [
      "                  date\n",
      "0  2008-08-17 00:00:00\n",
      "1  2008-08-16 00:00:00\n",
      "2  2008-08-16 00:00:00\n",
      "3  2008-08-17 00:00:00\n",
      "4  2008-08-16 00:00:00\n"
     ]
    }
   ],
   "source": [
    "query = (\"SELECT date FROM Match;\")\n",
    "df = pd.read_sql_query ( query, conn)\n",
    "\n",
    "print (df.head(5))"
   ]
  },
  {
   "cell_type": "code",
   "execution_count": 63,
   "id": "b6f9d863-ceaa-4515-989f-a4b36b7048b3",
   "metadata": {},
   "outputs": [
    {
     "name": "stdout",
     "output_type": "stream",
     "text": [
      "   match_api_id                 date     home_team_name     away_team_name\n",
      "0        492473  2008-08-17 00:00:00           KRC Genk       Beerschot AC\n",
      "1        492474  2008-08-16 00:00:00   SV Zulte-Waregem   Sporting Lokeren\n",
      "2        492475  2008-08-16 00:00:00  KSV Cercle Brugge     RSC Anderlecht\n",
      "3        492476  2008-08-17 00:00:00           KAA Gent          RAEC Mons\n",
      "4        492477  2008-08-16 00:00:00      FCV Dender EH  Standard de Liège\n"
     ]
    }
   ],
   "source": [
    "query = \"\"\"\n",
    "\n",
    "SELECT m.match_api_id, \n",
    "       m.date, \n",
    "       th.team_long_name AS home_team_name,   \n",
    "       ta.team_long_name AS away_team_name\n",
    "FROM Match m\n",
    "LEFT JOIN Team th ON m.home_team_api_id = th.team_api_id\n",
    "LEFT JOIN Team ta ON m.away_team_api_id = ta.team_api_id;\n",
    "\n",
    "\"\"\"\n",
    "df = pd.read_sql_query (query, conn)\n",
    "\n",
    "print (df.head(5))"
   ]
  },
  {
   "cell_type": "code",
   "execution_count": null,
   "id": "a84472ed-115e-47aa-930a-35731e0c3574",
   "metadata": {},
   "outputs": [],
   "source": []
  },
  {
   "cell_type": "code",
   "execution_count": null,
   "id": "4253cd3f-8f6b-4af7-8492-529feddd7b9f",
   "metadata": {},
   "outputs": [],
   "source": []
  },
  {
   "cell_type": "code",
   "execution_count": null,
   "id": "b407d148-27e8-40f2-b7ad-60a25465eca8",
   "metadata": {},
   "outputs": [],
   "source": []
  },
  {
   "cell_type": "code",
   "execution_count": null,
   "id": "f5074c1e-315c-4339-afdf-06205703c46d",
   "metadata": {},
   "outputs": [],
   "source": []
  },
  {
   "cell_type": "code",
   "execution_count": null,
   "id": "a9a91874-c20b-47e3-84cd-a8aea00761e4",
   "metadata": {},
   "outputs": [],
   "source": []
  },
  {
   "cell_type": "code",
   "execution_count": null,
   "id": "c9f507fa-8376-43ae-98fc-7251e68d3a4c",
   "metadata": {},
   "outputs": [],
   "source": []
  },
  {
   "cell_type": "code",
   "execution_count": null,
   "id": "8369ef7d-681e-4d1a-8ecf-47276c62c214",
   "metadata": {},
   "outputs": [],
   "source": []
  },
  {
   "cell_type": "code",
   "execution_count": null,
   "id": "60660c11-efcb-4d0a-bc90-8bc55be45d73",
   "metadata": {},
   "outputs": [],
   "source": []
  },
  {
   "cell_type": "code",
   "execution_count": null,
   "id": "3d362e8b-ecc1-4232-90dd-97d8d35eadfe",
   "metadata": {},
   "outputs": [],
   "source": []
  },
  {
   "cell_type": "code",
   "execution_count": null,
   "id": "4f0cf6e0-579a-4e43-a1b8-b5ebd96e298a",
   "metadata": {},
   "outputs": [],
   "source": []
  },
  {
   "cell_type": "code",
   "execution_count": null,
   "id": "744f385c-b0e5-4732-afb4-987d9a3157da",
   "metadata": {},
   "outputs": [],
   "source": []
  },
  {
   "cell_type": "code",
   "execution_count": null,
   "id": "70a6e0a2-d990-4c2b-b9a5-a57c43ab4cc2",
   "metadata": {},
   "outputs": [],
   "source": []
  },
  {
   "cell_type": "code",
   "execution_count": null,
   "id": "3c91f1ff-3dc4-47d7-a034-7a7c7ae09d6a",
   "metadata": {},
   "outputs": [],
   "source": []
  },
  {
   "cell_type": "code",
   "execution_count": null,
   "id": "a0065e59-3d96-4d28-a481-30062c9ed929",
   "metadata": {},
   "outputs": [],
   "source": []
  },
  {
   "cell_type": "code",
   "execution_count": null,
   "id": "3a1f2da7-7d01-43ba-9e0e-1bafc3903609",
   "metadata": {},
   "outputs": [],
   "source": []
  },
  {
   "cell_type": "code",
   "execution_count": null,
   "id": "f3bae5d2-9396-4454-8625-2dddc1391c88",
   "metadata": {},
   "outputs": [],
   "source": []
  },
  {
   "cell_type": "code",
   "execution_count": null,
   "id": "fa4c66b0-a41b-4a11-8262-8ea59dc18d1d",
   "metadata": {},
   "outputs": [],
   "source": []
  },
  {
   "cell_type": "code",
   "execution_count": null,
   "id": "1b96aca5-c37b-46bb-af0d-6d653d5644f6",
   "metadata": {},
   "outputs": [],
   "source": []
  },
  {
   "cell_type": "code",
   "execution_count": null,
   "id": "04b6ad2a-4094-40b3-b1ce-42ac5dcd2b8f",
   "metadata": {},
   "outputs": [],
   "source": []
  },
  {
   "cell_type": "code",
   "execution_count": null,
   "id": "1349476f-dbca-4dd8-9d75-bf73c005d505",
   "metadata": {},
   "outputs": [],
   "source": []
  },
  {
   "cell_type": "code",
   "execution_count": null,
   "id": "7a579bdb-6074-4dd0-9379-b29f5ec2c6e1",
   "metadata": {},
   "outputs": [],
   "source": []
  },
  {
   "cell_type": "code",
   "execution_count": null,
   "id": "d6205ab8-fe0c-4e0f-b88e-0679e479817d",
   "metadata": {},
   "outputs": [],
   "source": []
  },
  {
   "cell_type": "code",
   "execution_count": null,
   "id": "1708989f-f724-4667-95e4-2e206cdedd9a",
   "metadata": {},
   "outputs": [],
   "source": []
  },
  {
   "cell_type": "code",
   "execution_count": null,
   "id": "70c3dcd3-c8f2-4c87-b6e2-f98e7626a40d",
   "metadata": {},
   "outputs": [],
   "source": []
  },
  {
   "cell_type": "code",
   "execution_count": null,
   "id": "3f0dae64-4a1d-4f35-9041-acf62370bad7",
   "metadata": {},
   "outputs": [],
   "source": []
  },
  {
   "cell_type": "code",
   "execution_count": null,
   "id": "a360221c-a17e-477e-8086-52f4a3833167",
   "metadata": {},
   "outputs": [],
   "source": []
  },
  {
   "cell_type": "code",
   "execution_count": null,
   "id": "27301147-493a-446c-9ea5-5b491c455372",
   "metadata": {},
   "outputs": [],
   "source": []
  },
  {
   "cell_type": "code",
   "execution_count": null,
   "id": "4382dda9-95b4-414b-91d1-08156fed4ee1",
   "metadata": {},
   "outputs": [],
   "source": []
  },
  {
   "cell_type": "code",
   "execution_count": null,
   "id": "ae644f90-b8b9-42f7-85c5-e5b66d7bbd75",
   "metadata": {},
   "outputs": [],
   "source": []
  },
  {
   "cell_type": "code",
   "execution_count": null,
   "id": "19cfe007-0428-4b60-b957-1d40b0d426a3",
   "metadata": {},
   "outputs": [],
   "source": []
  },
  {
   "cell_type": "code",
   "execution_count": null,
   "id": "d231ac9b-49c1-4e15-806f-382a146aac89",
   "metadata": {},
   "outputs": [],
   "source": []
  },
  {
   "cell_type": "code",
   "execution_count": null,
   "id": "dc1fc10e-ca21-4c51-b615-077f919493e4",
   "metadata": {},
   "outputs": [],
   "source": []
  },
  {
   "cell_type": "code",
   "execution_count": null,
   "id": "913573b8-b441-458f-8648-670e31806112",
   "metadata": {},
   "outputs": [],
   "source": []
  },
  {
   "cell_type": "code",
   "execution_count": null,
   "id": "557fac89-6702-47cd-bb4c-c474fe565d28",
   "metadata": {},
   "outputs": [],
   "source": []
  }
 ],
 "metadata": {
  "kernelspec": {
   "display_name": "Python [conda env:base] *",
   "language": "python",
   "name": "conda-base-py"
  },
  "language_info": {
   "codemirror_mode": {
    "name": "ipython",
    "version": 3
   },
   "file_extension": ".py",
   "mimetype": "text/x-python",
   "name": "python",
   "nbconvert_exporter": "python",
   "pygments_lexer": "ipython3",
   "version": "3.12.7"
  }
 },
 "nbformat": 4,
 "nbformat_minor": 5
}
