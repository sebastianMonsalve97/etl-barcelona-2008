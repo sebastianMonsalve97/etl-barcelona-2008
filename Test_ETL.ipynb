{
 "cells": [
  {
   "cell_type": "code",
   "execution_count": 7,
   "id": "1934222c-5bfb-4f17-a81c-81916d658a97",
   "metadata": {},
   "outputs": [
    {
     "ename": "IndentationError",
     "evalue": "unindent does not match any outer indentation level (etl.py, line 80)",
     "output_type": "error",
     "traceback": [
      "Traceback \u001b[0;36m(most recent call last)\u001b[0m:\n",
      "\u001b[0m  File \u001b[1;32m/opt/anaconda3/lib/python3.12/site-packages/IPython/core/interactiveshell.py:3577\u001b[0m in \u001b[1;35mrun_code\u001b[0m\n    exec(code_obj, self.user_global_ns, self.user_ns)\u001b[0m\n",
      "\u001b[0;36m  Cell \u001b[0;32mIn[7], line 2\u001b[0;36m\n\u001b[0;31m    from etl import extract_match_data, transform_data\u001b[0;36m\n",
      "\u001b[0;36m  File \u001b[0;32m~/Desktop/Sebastian/Prueba tecnica Nequi/etl.py:80\u001b[0;36m\u001b[0m\n\u001b[0;31m    def transform_data(df):\u001b[0m\n\u001b[0m                           ^\u001b[0m\n\u001b[0;31mIndentationError\u001b[0m\u001b[0;31m:\u001b[0m unindent does not match any outer indentation level\n"
     ]
    }
   ],
   "source": [
    "import pandas as pd\n",
    "from etl import extract_match_data, transform_data\n",
    "\n",
    "def test_extract_returns_dataframe():\n",
    "    df = extract_match_data()\n",
    "    assert isinstance(df, pd.DataFrame), \"La extracción no devolvió un DataFrame\"\n",
    "\n",
    "def test_transform_filters_data():\n",
    "    df = extract_match_data()\n",
    "    df_transformed = transform_data(df)  \n",
    "    assert not df_transformed.empty, \"El dataframe transformado está vacío\"\n",
    "    assert \"Barcelona\" in df_transformed['home_team_name'].values or \\\n",
    "           \"Barcelona\" in df_transformed['away_team_name'].values, \\\n",
    "           \"No hay datos del Barcelona\"\n"
   ]
  },
  {
   "cell_type": "code",
   "execution_count": null,
   "id": "18ce897c-987a-4686-8716-f500f48d5d73",
   "metadata": {},
   "outputs": [],
   "source": []
  }
 ],
 "metadata": {
  "kernelspec": {
   "display_name": "Python [conda env:base] *",
   "language": "python",
   "name": "conda-base-py"
  },
  "language_info": {
   "codemirror_mode": {
    "name": "ipython",
    "version": 3
   },
   "file_extension": ".py",
   "mimetype": "text/x-python",
   "name": "python",
   "nbconvert_exporter": "python",
   "pygments_lexer": "ipython3",
   "version": "3.12.7"
  }
 },
 "nbformat": 4,
 "nbformat_minor": 5
}
